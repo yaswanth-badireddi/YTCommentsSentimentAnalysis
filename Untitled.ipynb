{
 "cells": [
  {
   "cell_type": "code",
   "execution_count": 5,
   "id": "abc19188-dbdf-4138-8a9d-6afc2d6d5191",
   "metadata": {},
   "outputs": [
    {
     "name": "stdout",
     "output_type": "stream",
     "text": [
      "✅ .env file created successfully.\n"
     ]
    }
   ],
   "source": [
    "env_content = \"\"\"\n",
    "GEMINI_API_KEY=your-api-key-here\n",
    "YOUTUBE_API_KEY=your-youtube-api-key-here\n",
    "\"\"\"\n",
    "\n",
    "with open(\".env\", \"w\") as f:\n",
    "    f.write(env_content.strip())\n",
    "\n",
    "print(\"✅ .env file created successfully.\")"
   ]
  },
  {
   "cell_type": "code",
   "execution_count": 6,
   "id": "66704a0e-4f4c-4c54-ae68-def5630c0133",
   "metadata": {},
   "outputs": [
    {
     "name": "stdout",
     "output_type": "stream",
     "text": [
      ".env exists: True\n"
     ]
    }
   ],
   "source": [
    "import os\n",
    "\n",
    "print(\".env exists:\", os.path.isfile(\".env\"))"
   ]
  },
  {
   "cell_type": "code",
   "execution_count": 7,
   "id": "e04a0baf-5190-450d-b6da-ab1b99dd0513",
   "metadata": {},
   "outputs": [
    {
     "name": "stderr",
     "output_type": "stream",
     "text": [
      "'ls' is not recognized as an internal or external command,\n",
      "operable program or batch file.\n"
     ]
    }
   ],
   "source": [
    "!ls -a"
   ]
  },
  {
   "cell_type": "code",
   "execution_count": 8,
   "id": "f76e90fd-0916-48b2-8e85-0b02334a7739",
   "metadata": {},
   "outputs": [
    {
     "ename": "ModuleNotFoundError",
     "evalue": "No module named 'ls'",
     "output_type": "error",
     "traceback": [
      "\u001b[1;31m---------------------------------------------------------------------------\u001b[0m",
      "\u001b[1;31mModuleNotFoundError\u001b[0m                       Traceback (most recent call last)",
      "Cell \u001b[1;32mIn[8], line 1\u001b[0m\n\u001b[1;32m----> 1\u001b[0m \u001b[38;5;28;01mimport\u001b[39;00m\u001b[38;5;250m \u001b[39m\u001b[38;5;21;01mls\u001b[39;00m\n",
      "\u001b[1;31mModuleNotFoundError\u001b[0m: No module named 'ls'"
     ]
    }
   ],
   "source": [
    "import ls"
   ]
  },
  {
   "cell_type": "code",
   "execution_count": 10,
   "id": "b415d25e-4cf0-44b7-b164-95b260e82dd0",
   "metadata": {},
   "outputs": [],
   "source": [
    "with open(\".gitignore\", \"w\") as f:\n",
    "    f.write(\"\"\"\n",
    ".env\n",
    "__pycache__/\n",
    "*.py[cod]\n",
    ".ipynb_checkpoints/\n",
    "*.csv\n",
    ".vscode/\n",
    "*.log\n",
    ".DS_Store\n",
    "Thumbs.db\n",
    "\"\"\")\n"
   ]
  },
  {
   "cell_type": "code",
   "execution_count": 11,
   "id": "7f82cb3d-d80a-4cad-aaf9-2a97fbd9f7ed",
   "metadata": {},
   "outputs": [],
   "source": [
    "# Create a README.md file and write some content\n",
    "with open(\"README.md\", \"w\") as f:\n",
    "    f.write(\"# Project Title\\n\")\n",
    "    f.write(\"This is a brief description of the project.\\n\")\n",
    "    f.write(\"\\n## Installation\\n\")\n",
    "    f.write(\"Instructions on how to install dependencies.\\n\")\n",
    "    f.write(\"\\n## Usage\\n\")\n",
    "    f.write(\"Instructions on how to run the project.\\n\")"
   ]
  }
 ],
 "metadata": {
  "kernelspec": {
   "display_name": "Python [conda env:base] *",
   "language": "python",
   "name": "conda-base-py"
  },
  "language_info": {
   "codemirror_mode": {
    "name": "ipython",
    "version": 3
   },
   "file_extension": ".py",
   "mimetype": "text/x-python",
   "name": "python",
   "nbconvert_exporter": "python",
   "pygments_lexer": "ipython3",
   "version": "3.13.5"
  }
 },
 "nbformat": 4,
 "nbformat_minor": 5
}
